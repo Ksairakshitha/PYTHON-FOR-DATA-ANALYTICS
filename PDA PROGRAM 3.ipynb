{
 "cells": [
  {
   "cell_type": "code",
   "execution_count": 1,
   "id": "7fc9ffb0",
   "metadata": {},
   "outputs": [
    {
     "name": "stdout",
     "output_type": "stream",
     "text": [
      "Enter a string  :  good afternoon\n",
      "g:1\n",
      "o:4\n",
      "d:1\n",
      " :1\n",
      "a:1\n",
      "f:1\n",
      "t:1\n",
      "e:1\n",
      "r:1\n",
      "n:2\n"
     ]
    }
   ],
   "source": [
    "def count_characters(str):\n",
    " count={}\n",
    " for char in str:\n",
    "      if char in count:\n",
    "        count[char]+=1\n",
    "      else:\n",
    "        count[char]=1\n",
    " return count\n",
    "str=input(\"Enter a string  :  \")\n",
    "result=count_characters(str)\n",
    "for key,value in result.items():\n",
    "   print(f\"{key}:{value}\")"
   ]
  },
  {
   "cell_type": "code",
   "execution_count": null,
   "id": "da157e0d",
   "metadata": {},
   "outputs": [],
   "source": []
  }
 ],
 "metadata": {
  "kernelspec": {
   "display_name": "Python 3 (ipykernel)",
   "language": "python",
   "name": "python3"
  },
  "language_info": {
   "codemirror_mode": {
    "name": "ipython",
    "version": 3
   },
   "file_extension": ".py",
   "mimetype": "text/x-python",
   "name": "python",
   "nbconvert_exporter": "python",
   "pygments_lexer": "ipython3",
   "version": "3.11.5"
  }
 },
 "nbformat": 4,
 "nbformat_minor": 5
}
