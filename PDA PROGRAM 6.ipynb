{
 "cells": [
  {
   "cell_type": "code",
   "execution_count": 1,
   "id": "aa0846c5",
   "metadata": {},
   "outputs": [
    {
     "name": "stdout",
     "output_type": "stream",
     "text": [
      "Addition:3+7i\n",
      "Subtraction:1+-1i\n",
      "Multiplication:-10+11i\n"
     ]
    }
   ],
   "source": [
    "#program6\n",
    "class Complex:\n",
    "    def __init__(self,real,imag):\n",
    "        self.real=real\n",
    "        self.imag=imag\n",
    "    def __add__(self,other):\n",
    "        return Complex(self.real+other.real,self.imag+other.imag)\n",
    "    def __sub__(self,other):\n",
    "        return Complex(self.real-other.real,self.imag-other.imag)\n",
    "    def __mul__(self,other):\n",
    "        real_part=(self.real*other.real)-(self.imag*other.imag)\n",
    "        imag_part=(self.real*other.imag)+(self.imag*other.real)\n",
    "        return Complex(real_part,imag_part)\n",
    "    def __str__(self):\n",
    "        return f\"{self.real}+{self.imag}i\"\n",
    "if __name__==\"__main__\":\n",
    "    c1=Complex(2,3)\n",
    "    c2=Complex(1,4)\n",
    "    result_add=c1+c2\n",
    "    print(f\"Addition:{result_add}\")\n",
    "    result_sub=c1-c2\n",
    "    print(f\"Subtraction:{result_sub}\")\n",
    "    result_mul=c1*c2\n",
    "    print(f\"Multiplication:{result_mul}\")"
   ]
  },
  {
   "cell_type": "code",
   "execution_count": null,
   "id": "c17c7e25",
   "metadata": {},
   "outputs": [],
   "source": []
  }
 ],
 "metadata": {
  "kernelspec": {
   "display_name": "Python 3 (ipykernel)",
   "language": "python",
   "name": "python3"
  },
  "language_info": {
   "codemirror_mode": {
    "name": "ipython",
    "version": 3
   },
   "file_extension": ".py",
   "mimetype": "text/x-python",
   "name": "python",
   "nbconvert_exporter": "python",
   "pygments_lexer": "ipython3",
   "version": "3.11.5"
  }
 },
 "nbformat": 4,
 "nbformat_minor": 5
}
