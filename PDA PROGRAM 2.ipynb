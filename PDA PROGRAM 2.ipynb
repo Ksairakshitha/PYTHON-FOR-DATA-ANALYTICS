{
 "cells": [
  {
   "cell_type": "code",
   "execution_count": 1,
   "id": "fd8c59be",
   "metadata": {},
   "outputs": [
    {
     "name": "stdout",
     "output_type": "stream",
     "text": [
      "Enter a string separated by spaces  :  python for data analytics\n",
      "A:['analytics']\n",
      "D:['data']\n",
      "F:['for']\n",
      "P:['python']\n"
     ]
    }
   ],
   "source": [
    "def create_dictionary(words):\n",
    "    dictionary={}\n",
    "    for word in words:\n",
    "        if word:\n",
    "            first_char=word[0].upper()\n",
    "        if first_char not in dictionary:\n",
    "            dictionary[first_char]=[]\n",
    "        dictionary[first_char].append(word)\n",
    "    return dictionary\n",
    "words=input(\"Enter a string separated by spaces  :  \").split()\n",
    "result=create_dictionary(words)\n",
    "for key,value in sorted(result.items()):\n",
    "    print(f\"{key}:{sorted(value)}\")"
   ]
  },
  {
   "cell_type": "code",
   "execution_count": null,
   "id": "175646ea",
   "metadata": {},
   "outputs": [],
   "source": []
  },
  {
   "cell_type": "code",
   "execution_count": null,
   "id": "a8d48361",
   "metadata": {},
   "outputs": [],
   "source": []
  }
 ],
 "metadata": {
  "kernelspec": {
   "display_name": "Python 3 (ipykernel)",
   "language": "python",
   "name": "python3"
  },
  "language_info": {
   "codemirror_mode": {
    "name": "ipython",
    "version": 3
   },
   "file_extension": ".py",
   "mimetype": "text/x-python",
   "name": "python",
   "nbconvert_exporter": "python",
   "pygments_lexer": "ipython3",
   "version": "3.11.5"
  }
 },
 "nbformat": 4,
 "nbformat_minor": 5
}
