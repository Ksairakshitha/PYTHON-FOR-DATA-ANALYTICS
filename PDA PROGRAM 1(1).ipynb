{
 "cells": [
  {
   "cell_type": "code",
   "execution_count": 5,
   "id": "08a101e7",
   "metadata": {},
   "outputs": [
    {
     "name": "stdout",
     "output_type": "stream",
     "text": [
      "Enter a number :  0\n",
      "Enter a natural number\n",
      "The sum of  0 is None\n"
     ]
    }
   ],
   "source": [
    "x=int(input(\"Enter a number :  \"))\n",
    "def r_sum(x):\n",
    "    if(x==0):\n",
    "        print(\"Enter a natural number\")\n",
    "    elif(x==1):\n",
    "        return 1\n",
    "    else:\n",
    "        return x+r_sum(x-1)\n",
    "print(\"The sum of \",x,\"is\",r_sum(x))"
   ]
  },
  {
   "cell_type": "code",
   "execution_count": null,
   "id": "7b19cddd",
   "metadata": {},
   "outputs": [],
   "source": []
  },
  {
   "cell_type": "code",
   "execution_count": null,
   "id": "e41408d7",
   "metadata": {},
   "outputs": [],
   "source": []
  },
  {
   "cell_type": "code",
   "execution_count": null,
   "id": "ab693997",
   "metadata": {},
   "outputs": [],
   "source": []
  }
 ],
 "metadata": {
  "kernelspec": {
   "display_name": "Python 3 (ipykernel)",
   "language": "python",
   "name": "python3"
  },
  "language_info": {
   "codemirror_mode": {
    "name": "ipython",
    "version": 3
   },
   "file_extension": ".py",
   "mimetype": "text/x-python",
   "name": "python",
   "nbconvert_exporter": "python",
   "pygments_lexer": "ipython3",
   "version": "3.11.5"
  }
 },
 "nbformat": 4,
 "nbformat_minor": 5
}
