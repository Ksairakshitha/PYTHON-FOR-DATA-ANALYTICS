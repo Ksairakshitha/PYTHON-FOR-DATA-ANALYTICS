{
 "cells": [
  {
   "cell_type": "code",
   "execution_count": null,
   "id": "a17613f2",
   "metadata": {},
   "outputs": [
    {
     "name": "stdout",
     "output_type": "stream",
     "text": [
      "\n",
      "1.Append an element\n",
      "2.Remove an element\n",
      "3.Display the elements\n",
      "4.Exit\n",
      "Enter your choice  :   1\n",
      "Enter an element to be inserted:  10\n",
      "\n",
      "1.Append an element\n",
      "2.Remove an element\n",
      "3.Display the elements\n",
      "4.Exit\n",
      "Enter your choice  :   1\n",
      "Enter an element to be inserted:  20\n",
      "\n",
      "1.Append an element\n",
      "2.Remove an element\n",
      "3.Display the elements\n",
      "4.Exit\n",
      "Enter your choice  :   1\n",
      "Enter an element to be inserted:  30\n",
      "\n",
      "1.Append an element\n",
      "2.Remove an element\n",
      "3.Display the elements\n",
      "4.Exit\n",
      "Enter your choice  :   3\n",
      "The elements of the list are    [10, 20, 30]\n",
      "\n",
      "1.Append an element\n",
      "2.Remove an element\n",
      "3.Display the elements\n",
      "4.Exit\n",
      "Enter your choice  :   2\n",
      "Enter an element to be deleted  :  30\n",
      "\n",
      "1.Append an element\n",
      "2.Remove an element\n",
      "3.Display the elements\n",
      "4.Exit\n",
      "Enter your choice  :   3\n",
      "The elements of the list are    [10, 20]\n",
      "\n",
      "1.Append an element\n",
      "2.Remove an element\n",
      "3.Display the elements\n",
      "4.Exit\n"
     ]
    }
   ],
   "source": [
    "class list_manager:\n",
    "    def __init__(self):\n",
    "        self.list=[]\n",
    "    def insert(self,list):\n",
    "        self.list.append(element)\n",
    "    def remove(self,list):\n",
    "        self.list.remove(element)\n",
    "    def display(self,list):\n",
    "        print(\"The elements of the list are   \",self.list)\n",
    "ele=list_manager()\n",
    "while(1):\n",
    "   print(\"\\n1.Append an element\\n2.Remove an element\\n3.Display the elements\\n4.Exit\")\n",
    "   choice=int(input(\"Enter your choice  :   \"))\n",
    "   if(choice==1):\n",
    "        element=int(input(\"Enter an element to be inserted:  \"))\n",
    "        ele.insert(list)\n",
    "   elif(choice==2):\n",
    "        element=int(input(\"Enter an element to be deleted  :  \"))\n",
    "        ele.remove(list)\n",
    "   elif(choice==3):\n",
    "        ele.display(list)\n",
    "   elif(choice==4):\n",
    "        exit\n",
    "   else:     \n",
    "        print(\"Invalid Choice\")\n",
    "        "
   ]
  },
  {
   "cell_type": "code",
   "execution_count": null,
   "id": "01659922",
   "metadata": {},
   "outputs": [],
   "source": []
  }
 ],
 "metadata": {
  "kernelspec": {
   "display_name": "Python 3 (ipykernel)",
   "language": "python",
   "name": "python3"
  },
  "language_info": {
   "codemirror_mode": {
    "name": "ipython",
    "version": 3
   },
   "file_extension": ".py",
   "mimetype": "text/x-python",
   "name": "python",
   "nbconvert_exporter": "python",
   "pygments_lexer": "ipython3",
   "version": "3.11.5"
  }
 },
 "nbformat": 4,
 "nbformat_minor": 5
}
