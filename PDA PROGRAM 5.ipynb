{
 "cells": [
  {
   "cell_type": "code",
   "execution_count": 2,
   "id": "1b3f8d92",
   "metadata": {},
   "outputs": [
    {
     "name": "stdout",
     "output_type": "stream",
     "text": [
      "Method in class B\n",
      "Method Resolution Order: (<class '__main__.D'>, <class '__main__.B'>, <class '__main__.C'>, <class '__main__.A'>, <class 'object'>)\n"
     ]
    }
   ],
   "source": [
    "class A:\n",
    "    def classmethod(self):\n",
    "        print(\"Method in class A\")\n",
    "class B(A):\n",
    "    def classmethod(self):\n",
    "        print(\"Method in class B\")\n",
    "class C(A):\n",
    "    def classmethod(self):\n",
    "        print(\"Method in class C\")\n",
    "class D(B,C):\n",
    "    pass\n",
    "d=D()\n",
    "d.classmethod()\n",
    "print(\"Method Resolution Order:\",D.__mro__)\n",
    "        "
   ]
  },
  {
   "cell_type": "code",
   "execution_count": null,
   "id": "1945a397",
   "metadata": {},
   "outputs": [],
   "source": []
  }
 ],
 "metadata": {
  "kernelspec": {
   "display_name": "Python 3 (ipykernel)",
   "language": "python",
   "name": "python3"
  },
  "language_info": {
   "codemirror_mode": {
    "name": "ipython",
    "version": 3
   },
   "file_extension": ".py",
   "mimetype": "text/x-python",
   "name": "python",
   "nbconvert_exporter": "python",
   "pygments_lexer": "ipython3",
   "version": "3.11.5"
  }
 },
 "nbformat": 4,
 "nbformat_minor": 5
}
